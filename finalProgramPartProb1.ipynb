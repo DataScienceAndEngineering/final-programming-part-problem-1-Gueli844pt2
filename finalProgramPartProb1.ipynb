{
 "cells": [
  {
   "cell_type": "markdown",
   "metadata": {},
   "source": [
    "# Problem 1 of 2 Final Programming Part \n",
    "## Regression of Possom head length based on total length\n",
    "\n",
    "In this problem you will perform a regression of Possom head length based on total length. Will need to load the data, inpect it, select the appropriate columns. You will need to make figures, perform the regression and estimate the error.\n",
    "\n",
    "### Part 0: Data Imports"
   ]
  },
  {
   "cell_type": "code",
   "execution_count": 1,
   "metadata": {},
   "outputs": [],
   "source": [
    "import pandas as pd\n",
    "import numpy as np\n",
    "from numpy import linspace\n",
    "from matplotlib import pyplot as plt\n",
    "import seaborn as sns\n",
    "from sklearn.linear_model import LinearRegression\n",
    "from sklearn.model_selection import train_test_split\n",
    "from sklearn.metrics import mean_squared_error as mse\n",
    "\n",
    "# Leave the code in this cell below unchanged. Use print if output is desired\n",
    "score = {0:0}"
   ]
  },
  {
   "cell_type": "markdown",
   "metadata": {},
   "source": [
    "### Part 1: Load and Inspect the Data\n",
    "\n",
    "Load the data from the URL https://bit.ly/possumcsv and perform inspection tasks.\n",
    "\n",
    "#### 1.1 Load csv file from the URL https://bit.ly/possumcsv\n",
    "\n",
    "Load a csv from the URL https://bit.ly/possumcsv and store it as a pandas DataFrame in the variable `possum_df`.\n"
   ]
  },
  {
   "cell_type": "code",
   "execution_count": 2,
   "metadata": {},
   "outputs": [],
   "source": [
    "# 1.1 Load data code here\n",
    "\n",
    "\n",
    "\n",
    "\n",
    "# Leave the code in this cell below unchanged. Use print if output is desired\n",
    "score['1.1'] = 5"
   ]
  },
  {
   "cell_type": "markdown",
   "metadata": {},
   "source": [
    "#### 1.2 Inspect the data\n",
    "\n",
    "1. Print out the first 5 rows of the data\n",
    "1. Print the columns of the data, and their data types, and the non-null counts\n",
    "1. Print the summary statistics of the data"
   ]
  },
  {
   "cell_type": "code",
   "execution_count": 3,
   "metadata": {},
   "outputs": [],
   "source": [
    "#### 1.2.1\n",
    "\n",
    "\n",
    "\n",
    "\n",
    "# Leave the code in this cell below unchanged. Use print if output is desired\n",
    "score['1.2.1'] = 5"
   ]
  },
  {
   "cell_type": "code",
   "execution_count": 4,
   "metadata": {},
   "outputs": [
    {
     "name": "stdout",
     "output_type": "stream",
     "text": [
      "<class 'pandas.core.frame.DataFrame'>\n",
      "RangeIndex: 104 entries, 0 to 103\n",
      "Data columns (total 14 columns):\n",
      " #   Column    Non-Null Count  Dtype  \n",
      "---  ------    --------------  -----  \n",
      " 0   case      104 non-null    int64  \n",
      " 1   site      104 non-null    int64  \n",
      " 2   Pop       104 non-null    object \n",
      " 3   sex       104 non-null    object \n",
      " 4   age       102 non-null    float64\n",
      " 5   hdlngth   104 non-null    float64\n",
      " 6   skullw    104 non-null    float64\n",
      " 7   totlngth  104 non-null    float64\n",
      " 8   taill     104 non-null    float64\n",
      " 9   footlgth  103 non-null    float64\n",
      " 10  earconch  104 non-null    float64\n",
      " 11  eye       104 non-null    float64\n",
      " 12  chest     104 non-null    float64\n",
      " 13  belly     104 non-null    float64\n",
      "dtypes: float64(10), int64(2), object(2)\n",
      "memory usage: 11.5+ KB\n"
     ]
    }
   ],
   "source": [
    "#### 1.2.2\n",
    "\n",
    "\n",
    "\n",
    "# Leave the code in this cell below unchanged. Use print if output is desired\n",
    "score['1.2.2'] = 5"
   ]
  },
  {
   "cell_type": "code",
   "execution_count": 5,
   "metadata": {},
   "outputs": [
    {
     "name": "stdout",
     "output_type": "stream",
     "text": [
      "             case        site         age     hdlngth      skullw    totlngth  \\\n",
      "count  104.000000  104.000000  102.000000  104.000000  104.000000  104.000000   \n",
      "mean    52.500000    3.625000    3.833333   92.602885   56.883654   87.088462   \n",
      "std     30.166206    2.349086    1.909244    3.573349    3.113426    4.310549   \n",
      "min      1.000000    1.000000    1.000000   82.500000   50.000000   75.000000   \n",
      "25%     26.750000    1.000000    2.250000   90.675000   54.975000   84.000000   \n",
      "50%     52.500000    3.000000    3.000000   92.800000   56.350000   88.000000   \n",
      "75%     78.250000    6.000000    5.000000   94.725000   58.100000   90.000000   \n",
      "max    104.000000    7.000000    9.000000  103.100000   68.600000   96.500000   \n",
      "\n",
      "            taill    footlgth    earconch         eye       chest       belly  \n",
      "count  104.000000  103.000000  104.000000  104.000000  104.000000  104.000000  \n",
      "mean    37.009615   68.459223   48.130769   15.046154   27.000000   32.586538  \n",
      "std      1.959518    4.395306    4.109380    1.050374    2.045597    2.761949  \n",
      "min     32.000000   60.300000   40.300000   12.800000   22.000000   25.000000  \n",
      "25%     35.875000   64.600000   44.800000   14.400000   25.500000   31.000000  \n",
      "50%     37.000000   68.000000   46.800000   14.900000   27.000000   32.500000  \n",
      "75%     38.000000   72.500000   52.000000   15.725000   28.000000   34.125000  \n",
      "max     43.000000   77.900000   56.200000   17.800000   32.000000   40.000000  \n"
     ]
    }
   ],
   "source": [
    "#### 1.2.3\n",
    "\n",
    "\n",
    "\n",
    "# Leave the code in this cell below unchanged. Use print if output is desired\n",
    "score['1.2.3'] = 5"
   ]
  },
  {
   "cell_type": "markdown",
   "metadata": {},
   "source": [
    "### 1.3 Set up the data for regression\n",
    "\n",
    "1. Select the columns `totlnght` (input) and `hdlnght` (output) and store them variables `x` and `y` respectively. Make sure that x and y are numpy arrays so you may need to do a bit more to extract the values from the DataFrame.\n",
    "2. Make a scatter plot of `x` vs `y` with appropriate labels and title using seaborn\n",
    "3. Comment in the markdown file on the relationship between `X` and `y`. Does do they look unrelated? Is there a linear relationship? Is there a non-linear relationship?\n",
    "4. Turn `x` into a column vector `X` using `X=x.reshape(-1,1)`. This is necessary for the regression to work.\n",
    "5. Split the data into training and testing sets using `train_test_split` with a test size of 0.2 and a random state of 42. Store the results in variables `X_train`, `X_test`, `y_train`, `y_test`."
   ]
  },
  {
   "cell_type": "code",
   "execution_count": 6,
   "metadata": {},
   "outputs": [],
   "source": [
    "#### 1.3.1 x and y\n",
    "\n",
    "\n",
    "# Leave the code in this cell below unchanged. Use print if output is desired\n",
    "score['1.3.1'] = 5"
   ]
  },
  {
   "cell_type": "code",
   "execution_count": 7,
   "metadata": {},
   "outputs": [
    {
     "data": {
      "image/png": "[encoded data removed]",
      "text/plain": [
       "<Figure size 432x288 with 1 Axes>"
      ]
     },
     "metadata": {
      "needs_background": "light"
     },
     "output_type": "display_data"
    }
   ],
   "source": [
    "#### 1.3.2 graph\n",
    "\n",
    "\n",
    "\n",
    "# Leave the code in this cell below unchanged. Use print if output is desired\n",
    "score['1.3.2'] = 5"
   ]
  },
  {
   "cell_type": "markdown",
   "metadata": {},
   "source": [
    "#### 1.3.3 Your comments on the relationship between `x` and `y` here in this cell\n",
    "\n",
    "There definitely seems to be a relationship betwen totlnght and hdlnght. The relationship seems to be linear."
   ]
  },
  {
   "cell_type": "code",
   "execution_count": 8,
   "metadata": {},
   "outputs": [],
   "source": [
    "#### 1.3.3 score from markdown above\n",
    "# Leave the code in this cell below unchanged. Use print if output is desired\n",
    "score['1.3.3'] = 5"
   ]
  },
  {
   "cell_type": "code",
   "execution_count": 9,
   "metadata": {},
   "outputs": [],
   "source": [
    "#### 1.3.4 reshape x\n",
    "\n",
    "\n",
    "# Leave the code in this cell below unchanged. Use print if output is desired\n",
    "score['1.3.4'] = 5"
   ]
  },
  {
   "cell_type": "code",
   "execution_count": 10,
   "metadata": {},
   "outputs": [],
   "source": [
    "#### 1.3.5 split data\n",
    "\n",
    "\n",
    "\n",
    "# Leave the code in this cell below unchanged. Use print if output is desired\n",
    "score['1.3.5'] = 5"
   ]
  },
  {
   "cell_type": "markdown",
   "metadata": {},
   "source": [
    "## 1.4 Create, fit linear regression model and make predictions\n",
    "\n",
    "1. Create a linear regression model using `LinearRegression`\n",
    "2. Fit that model on the training data.\n",
    "3. Predict using training data and store the results in `y_pred_train` and for testing data and store the results in `y_pred_test`."
   ]
  },
  {
   "cell_type": "code",
   "execution_count": 11,
   "metadata": {},
   "outputs": [],
   "source": [
    "#### 1.4.1 create model\n",
    "\n",
    "\n",
    "\n",
    "# Leave the code in this cell below unchanged. Use print if output is desired\n",
    "score['1.4.1'] = 5"
   ]
  },
  {
   "cell_type": "code",
   "execution_count": 12,
   "metadata": {},
   "outputs": [],
   "source": [
    "#### 1.4.2 fit model\n",
    "\n",
    "\n",
    "\n",
    "# Leave the code in this cell below unchanged. Use print if output is desired\n",
    "score['1.4.2'] = 5"
   ]
  },
  {
   "cell_type": "code",
   "execution_count": 13,
   "metadata": {},
   "outputs": [],
   "source": [
    "#### 1.4.3 predict \n",
    "\n",
    "\n",
    "\n",
    "# Leave the code in this cell below unchanged. Use print if output is desired\n",
    "score['1.4.3'] = 5"
   ]
  },
  {
   "cell_type": "markdown",
   "metadata": {},
   "source": [
    "## 1.5 Evaluate the model (error)\n",
    "\n",
    "We need to evaluate the model to see how well it performs. We will use the bias (mean), the mean square error. We will plot the fit and a histogram of the residuals.\n",
    "\n",
    "1. Compute the min and max for all the data x and store them `x_min` and `x_max` respectively. Use `np.min` and `np.max`. Use `linspace` to create a range of values from 'x_min' to 'x_max' and store them in `x_samps`. Use `num=100` to get 100 samples. Use `reshape(-1,1)` to turn `x_samps` into a column vector and then use the model to predict the values and store them in `y_samps`.\n",
    "2. Plot the fit of the model. Use seaborn to scatter plot the 'X_train' vs 'y_train' with green dots, 'X_test' vs 'y_test' with blue 'x's, and 'x_samps' vs 'y_samps' with a red line using seaborn's `lineplot`. Make sure to label the axes and add a legend.\n",
    "3. Calculate the training and testing residuals and store them in `train_residuals` and `test_residuals` respectively.\n",
    "4. Compute the bias (mean) of the training and testing residuals and store them in `train_bias` and `test_bias` respectively and print them.\n",
    "5. Compute the mean squared error of the training and testing residuals and store them in `train_mse` and `test_mse` respectively and print them.\n",
    "6. Plot the histogram of the training and testing residuals using seaborn's `distplot` with 20 bins. Make sure to label the axes and add a legend.\n"
   ]
  },
  {
   "cell_type": "code",
   "execution_count": 14,
   "metadata": {},
   "outputs": [],
   "source": [
    "#### 1.5.1 predict\n",
    "\n",
    "\n",
    "# Leave the code in this cell below unchanged. Use print if output is desired\n",
    "score['1.5.1'] = 5"
   ]
  },
  {
   "cell_type": "code",
   "execution_count": 15,
   "metadata": {},
   "outputs": [
    {
     "data": {
      "image/png": "[encoded data removed]",
      "text/plain": [
       "<Figure size 576x432 with 1 Axes>"
      ]
     },
     "metadata": {
      "needs_background": "light"
     },
     "output_type": "display_data"
    }
   ],
   "source": [
    "#### 1.5.2 plot\n",
    "\n",
    "\n",
    "\n",
    "# Leave the code in this cell below unchanged. Use print if output is desired\n",
    "score['1.5.2'] = 5"
   ]
  },
  {
   "cell_type": "code",
   "execution_count": 16,
   "metadata": {},
   "outputs": [],
   "source": [
    "#### 1.5.3 compute the residuals\n",
    "\n",
    "  \n",
    "# Leave the code in this cell below unchanged. Use print if output is desired\n",
    "score['1.5.3'] = 5"
   ]
  },
  {
   "cell_type": "code",
   "execution_count": 17,
   "metadata": {},
   "outputs": [
    {
     "name": "stdout",
     "output_type": "stream",
     "text": [
      "train_bias: 7.875895384328821e-15, test_bias_test: -1.1668986102129044\n"
     ]
    }
   ],
   "source": [
    "#### 1.5.4 compute the bias\n",
    "\n",
    "\n",
    "\n",
    "# Leave the code in this cell below unchanged. Use print if output is desired\n",
    "score['1.5.4'] = 5"
   ]
  },
  {
   "cell_type": "code",
   "execution_count": 18,
   "metadata": {},
   "outputs": [
    {
     "name": "stdout",
     "output_type": "stream",
     "text": [
      "train_mse: 6.35962554727121, test_mse: 7.855542635454325\n"
     ]
    }
   ],
   "source": [
    "#### 1.5.5 compute the mean square error\n",
    "\n",
    "\n",
    "\n",
    "\n",
    "# Leave the code in this cell below unchanged. Use print if output is desired\n",
    "score['1.5.5'] = 5"
   ]
  },
  {
   "cell_type": "code",
   "execution_count": 19,
   "metadata": {},
   "outputs": [
    {
     "data": {
      "image/png": "[encoded data removed]",
      "text/plain": [
       "<Figure size 432x288 with 1 Axes>"
      ]
     },
     "metadata": {
      "needs_background": "light"
     },
     "output_type": "display_data"
    }
   ],
   "source": [
    "#### 1.5.6 histogram of the residuals\n",
    "\n",
    "\n",
    "\n",
    "# Leave the code in this cell below unchanged. Use print if output is desired\n",
    "score['1.5.6'] = 5"
   ]
  },
  {
   "cell_type": "code",
   "execution_count": 23,
   "metadata": {},
   "outputs": [
    {
     "data": {
      "text/plain": [
       "45.0"
      ]
     },
     "execution_count": 23,
     "metadata": {},
     "output_type": "execute_result"
    }
   ],
   "source": [
    "sum(score.values())/2.0"
   ]
  },
  {
   "cell_type": "code",
   "execution_count": null,
   "metadata": {},
   "outputs": [],
   "source": []
  }
 ],
 "metadata": {
  "kernelspec": {
   "display_name": "Python 3",
   "language": "python",
   "name": "python3"
  },
  "language_info": {
   "codemirror_mode": {
    "name": "ipython",
    "version": 3
   },
   "file_extension": ".py",
   "mimetype": "text/x-python",
   "name": "python",
   "nbconvert_exporter": "python",
   "pygments_lexer": "ipython3",
   "version": "3.6.13"
  }
 },
 "nbformat": 4,
 "nbformat_minor": 2
}
